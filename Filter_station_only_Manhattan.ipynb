{
 "cells": [
  {
   "cell_type": "code",
   "execution_count": 1,
   "metadata": {},
   "outputs": [],
   "source": []
  },
  {
   "cell_type": "code",
   "execution_count": 34,
   "metadata": {},
   "outputs": [
    {
     "data": {
      "text/plain": [
       "[1, 2, 3, 4, 5, 6]"
      ]
     },
     "execution_count": 34,
     "metadata": {},
     "output_type": "execute_result"
    }
   ],
   "source": [
    "nums1 = [4,0,0,0,0,0]\n",
    "m = 1\n",
    "nums2 = [1,2,3,5,6]\n",
    "n = 5\n",
    "if n == 0 and m == 0:\n",
    "    while len(nums1) != m:\n",
    "        nums1.pop()\n",
    "elif n == 0 and m != 0:\n",
    "    while len(nums1) != m:\n",
    "        nums1.pop()\n",
    "elif n!= 0 and m == 0:\n",
    "    while len(nums1) != m:\n",
    "        nums1.pop()\n",
    "    nums1.extend(nums2)\n",
    "else:\n",
    "    A = m-1\n",
    "    B = n-1\n",
    "    C = m+n-1\n",
    "    while B >= 0:\n",
    "        if A < 0:\n",
    "            A = 0\n",
    "        if nums1[A] < nums2[B]:\n",
    "            nums1[C] = nums2[B]\n",
    "            B -= 1\n",
    "            C -= 1\n",
    "        elif nums1[A] == nums2[B]:\n",
    "            nums1[C],nums1[A] = nums1[A], nums1[C]\n",
    "            A -= 1\n",
    "            C -=1\n",
    "        else:\n",
    "            nums1[C] = nums2[B]\n",
    "            nums1[C],nums1[A] = nums1[A], nums1[C]\n",
    "            C -= 1\n",
    "            B -= 1\n",
    "            while C >= 0:\n",
    "                if A - 1 >= 0:\n",
    "                    A -= 1\n",
    "                    if nums1[A] < nums1[C] and nums1[C] <= nums1[C + 1]:\n",
    "                        break\n",
    "                    else:\n",
    "                        nums1[C],nums1[A] = nums1[A], nums1[C]\n",
    "                        C -= 1\n",
    "                else:\n",
    "                    if nums1[A] < nums1[C] and nums1[C] <= nums1[C + 1]:\n",
    "                        C -= 1\n",
    "                        break\n",
    "                    else:\n",
    "                        nums1[C],nums1[A] = nums1[A], nums1[C]\n",
    "                    \n",
    "nums1"
   ]
  },
  {
   "cell_type": "code",
   "execution_count": null,
   "metadata": {},
   "outputs": [],
   "source": []
  }
 ],
 "metadata": {
  "kernelspec": {
   "display_name": "Python 3",
   "language": "python",
   "name": "python3"
  },
  "language_info": {
   "codemirror_mode": {
    "name": "ipython",
    "version": 3
   },
   "file_extension": ".py",
   "mimetype": "text/x-python",
   "name": "python",
   "nbconvert_exporter": "python",
   "pygments_lexer": "ipython3",
   "version": "3.12.0"
  }
 },
 "nbformat": 4,
 "nbformat_minor": 2
}
